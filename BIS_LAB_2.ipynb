{
  "nbformat": 4,
  "nbformat_minor": 0,
  "metadata": {
    "colab": {
      "provenance": [],
      "authorship_tag": "ABX9TyOK3/dOMAYnJWVVTjAkQqOr",
      "include_colab_link": true
    },
    "kernelspec": {
      "name": "python3",
      "display_name": "Python 3"
    },
    "language_info": {
      "name": "python"
    }
  },
  "cells": [
    {
      "cell_type": "markdown",
      "metadata": {
        "id": "view-in-github",
        "colab_type": "text"
      },
      "source": [
        "<a href=\"https://colab.research.google.com/github/Shreyas-2607/BIS_LAB/blob/main/BIS_LAB_2.ipynb\" target=\"_parent\"><img src=\"https://colab.research.google.com/assets/colab-badge.svg\" alt=\"Open In Colab\"/></a>"
      ]
    },
    {
      "cell_type": "code",
      "execution_count": 1,
      "metadata": {
        "colab": {
          "base_uri": "https://localhost:8080/"
        },
        "id": "8hpSZ10DXWIO",
        "outputId": "c064ae64-c0f9-4a15-8371-21a6b28c4a6a"
      },
      "outputs": [
        {
          "output_type": "stream",
          "name": "stdout",
          "text": [
            "\n",
            "=== Iteration 1 ===\n",
            "Particle | Position(x,y) | Velocity(vx,vy) | Fitness | pBest | gBest\n",
            "P1: pos=[0.21343764446641722, -0.40878289734734086], vel=[-0.31003783137839513, -1.0269435113042649], fit=0.2127, pbest=0.6561, gbest=0.2699\n",
            "P2: pos=[0.15064174646536804, 0.40573381905130323], vel=[0.0053326640475948595, -0.8213250152673172], fit=0.1873, pbest=1.5268, gbest=0.2699\n",
            "P3: pos=[-1.8864673097260287, 2.2031034453592473], vel=[-0.23081864813570022, 0.25259115096099266], fit=8.4124, pbest=6.5457, gbest=0.2699\n",
            "P4: pos=[-0.28278032669231834, 0.6138458065017214], vel=[0.7163708844652166, 0.45532114392452705], fit=0.4568, pbest=1.0234, gbest=0.2699\n",
            "P5: pos=[-0.2690376679394532, -0.737328567399465], vel=[0.2500245582422556, -0.7584396147013721], fit=0.616, pbest=0.2699, gbest=0.2699\n",
            "\n",
            "=== Iteration 2 ===\n",
            "Particle | Position(x,y) | Velocity(vx,vy) | Fitness | pBest | gBest\n",
            "P1: pos=[-0.0863377856663255, -0.5591584852725356], vel=[-0.2997754301327427, -0.1503755879251948], fit=0.3201, pbest=0.2127, gbest=0.1873\n",
            "P2: pos=[0.15490787770344394, -0.25132619316255056], vel=[0.004266131238075887, -0.6570600122138538], fit=0.0872, pbest=0.1873, gbest=0.1873\n",
            "P3: pos=[-0.7792920639771497, 1.2322296520303562], vel=[1.107175245748879, -0.970873793328891], fit=2.1257, pbest=6.5457, gbest=0.1873\n",
            "P4: pos=[0.4238511299238965, 0.9139846627368124], vel=[0.7066314566162148, 0.300138856235091], fit=1.015, pbest=0.4568, gbest=0.1873\n",
            "P5: pos=[-0.08836984196887337, -0.9758759964602381], vel=[0.18066782597057984, -0.23854742906077325], fit=0.9601, pbest=0.2699, gbest=0.1873\n",
            "\n",
            "=== Iteration 3 ===\n",
            "Particle | Position(x,y) | Velocity(vx,vy) | Fitness | pBest | gBest\n",
            "P1: pos=[0.5678345559871589, 0.11670974956893965], vel=[0.6541723416534844, 0.6758682348414753], fit=0.3361, pbest=0.2127, gbest=0.0872\n",
            "P2: pos=[0.15832078269390465, -0.7769742029336336], vel=[0.00341290499046071, -0.5256480097710831], fit=0.6288, pbest=0.0872, gbest=0.0872\n",
            "P3: pos=[1.8708898536877383, -2.3464903548031453], vel=[2.650181917664888, -3.5787200068335014], fit=9.0062, pbest=2.1257, gbest=0.0872\n",
            "P4: pos=[-0.510801469348278, 0.16498642944996722], vel=[-0.9346525992721745, -0.7489982332868452], fit=0.2881, pbest=0.4568, gbest=0.0872\n",
            "P5: pos=[-0.28788510547030566, -0.25478556198798774], vel=[-0.19951526350143228, 0.7210904344722504], fit=0.1478, pbest=0.2699, gbest=0.0872\n",
            "\n",
            "✅ Final Global Best Position: [0.15490787770344394, -0.25132619316255056]\n",
            "✅ Final Global Best Fitness: 0.08716130594416482\n"
          ]
        }
      ],
      "source": [
        "import random\n",
        "\n",
        "# Fitness Function (De Jong)\n",
        "def fitness(x, y):\n",
        "    return x**2 + y**2  # Minimize this\n",
        "\n",
        "# PSO Parameters\n",
        "w = 0.8      # Inertia\n",
        "c1 = 2       # Cognitive (personal)\n",
        "c2 = 2       # Social (global)\n",
        "num_particles = 5\n",
        "iterations = 3\n",
        "\n",
        "# Initialize particles\n",
        "particles = []\n",
        "for _ in range(num_particles):\n",
        "    x = random.uniform(-2, 2)\n",
        "    y = random.uniform(-2, 2)\n",
        "    vx = random.uniform(-1, 1)\n",
        "    vy = random.uniform(-1, 1)\n",
        "    particles.append({\n",
        "        \"position\": [x, y],\n",
        "        \"velocity\": [vx, vy],\n",
        "        \"pbest_pos\": [x, y],\n",
        "        \"pbest_val\": fitness(x, y)\n",
        "    })\n",
        "\n",
        "# Initialize global best\n",
        "gbest_pos = min(particles, key=lambda p: p[\"pbest_val\"])[\"pbest_pos\"]\n",
        "gbest_val = min(particles, key=lambda p: p[\"pbest_val\"])[\"pbest_val\"]\n",
        "\n",
        "# --- Iterations ---\n",
        "for t in range(iterations):\n",
        "    print(f\"\\n=== Iteration {t+1} ===\")\n",
        "\n",
        "    for i, p in enumerate(particles):\n",
        "        x, y = p[\"position\"]\n",
        "        vx, vy = p[\"velocity\"]\n",
        "\n",
        "        # Evaluate fitness\n",
        "        current_val = fitness(x, y)\n",
        "\n",
        "        # Update personal best\n",
        "        if current_val < p[\"pbest_val\"]:\n",
        "            p[\"pbest_pos\"] = [x, y]\n",
        "            p[\"pbest_val\"] = current_val\n",
        "\n",
        "        # Update global best\n",
        "        if current_val < gbest_val:\n",
        "            gbest_pos = [x, y]\n",
        "            gbest_val = current_val\n",
        "\n",
        "    # Update velocity and position\n",
        "    for i, p in enumerate(particles):\n",
        "        x, y = p[\"position\"]\n",
        "        vx, vy = p[\"velocity\"]\n",
        "\n",
        "        r1, r2 = random.random(), random.random()\n",
        "\n",
        "        # Velocity update\n",
        "        vx = w * vx + c1 * r1 * (p[\"pbest_pos\"][0] - x) + c2 * r2 * (gbest_pos[0] - x)\n",
        "        vy = w * vy + c1 * r1 * (p[\"pbest_pos\"][1] - y) + c2 * r2 * (gbest_pos[1] - y)\n",
        "\n",
        "        # Position update\n",
        "        x = x + vx\n",
        "        y = y + vy\n",
        "\n",
        "        p[\"velocity\"] = [vx, vy]\n",
        "        p[\"position\"] = [x, y]\n",
        "\n",
        "    # Display particle info after iteration\n",
        "    print(\"Particle | Position(x,y) | Velocity(vx,vy) | Fitness | pBest | gBest\")\n",
        "    for i, p in enumerate(particles):\n",
        "        print(f\"P{i+1}: pos={p['position']}, vel={p['velocity']}, \"\n",
        "              f\"fit={round(fitness(*p['position']),4)}, \"\n",
        "              f\"pbest={round(p['pbest_val'],4)}, gbest={round(gbest_val,4)}\")\n",
        "\n",
        "print(\"\\n✅ Final Global Best Position:\", gbest_pos)\n",
        "print(\"✅ Final Global Best Fitness:\", gbest_val)"
      ]
    }
  ]
}