{
  "nbformat": 4,
  "nbformat_minor": 0,
  "metadata": {
    "colab": {
      "provenance": [],
      "authorship_tag": "ABX9TyMGaU3RAmSuyt/0eFX0dR7w",
      "include_colab_link": true
    },
    "kernelspec": {
      "name": "python3",
      "display_name": "Python 3"
    },
    "language_info": {
      "name": "python"
    }
  },
  "cells": [
    {
      "cell_type": "markdown",
      "metadata": {
        "id": "view-in-github",
        "colab_type": "text"
      },
      "source": [
        "<a href=\"https://colab.research.google.com/github/Shreyas-2607/BIS_LAB/blob/main/Grey_Wolf.ipynb\" target=\"_parent\"><img src=\"https://colab.research.google.com/assets/colab-badge.svg\" alt=\"Open In Colab\"/></a>"
      ]
    },
    {
      "cell_type": "code",
      "execution_count": 1,
      "metadata": {
        "colab": {
          "base_uri": "https://localhost:8080/"
        },
        "id": "JNWzQjNe-45e",
        "outputId": "72b54436-19f0-4105-e7b5-4e30ff168d4e"
      },
      "outputs": [
        {
          "output_type": "stream",
          "name": "stdout",
          "text": [
            "\n",
            "Task Processing Times: [5 3 6 4 9 3 4 8 3 7]\n",
            "Best Machine Assignment: [0 1 2 0 2 0 0 1 2 1]\n",
            "Minimum Makespan Achieved: 18.0\n"
          ]
        }
      ],
      "source": [
        "import numpy as np\n",
        "\n",
        "\n",
        "num_tasks = 10\n",
        "num_machines = 3\n",
        "task_times = np.random.randint(2, 10, size=num_tasks)  # random processing times\n",
        "\n",
        "def calculate_makespan(solution):\n",
        "    \"\"\"solution = array of machine indices for each task\"\"\"\n",
        "    machine_loads = np.zeros(num_machines)\n",
        "    for task_idx, machine_idx in enumerate(solution):\n",
        "        machine_loads[machine_idx] += task_times[task_idx]\n",
        "    return np.max(machine_loads)  # makespan\n",
        "\n",
        "\n",
        "num_wolves = 20\n",
        "max_iter = 50\n",
        "\n",
        "population = np.random.randint(0, num_machines, size=(num_wolves, num_tasks))\n",
        "fitness = np.array([calculate_makespan(sol) for sol in population])\n",
        "\n",
        "alpha_idx = np.argmin(fitness)\n",
        "X_alpha = population[alpha_idx].copy()\n",
        "alpha_score = fitness[alpha_idx]\n",
        "\n",
        "fitness_temp = fitness.copy()\n",
        "fitness_temp[alpha_idx] = np.inf\n",
        "beta_idx = np.argmin(fitness_temp)\n",
        "X_beta = population[beta_idx].copy()\n",
        "beta_score = fitness[beta_idx]\n",
        "\n",
        "fitness_temp[beta_idx] = np.inf\n",
        "delta_idx = np.argmin(fitness_temp)\n",
        "X_delta = population[delta_idx].copy()\n",
        "delta_score = fitness[delta_idx]\n",
        "\n",
        "for t in range(max_iter):\n",
        "    a = 2 - t * (2 / max_iter)\n",
        "\n",
        "    for i in range(num_wolves):\n",
        "        for d in range(num_tasks):\n",
        "            r1, r2 = np.random.rand(), np.random.rand()\n",
        "            A1 = 2 * a * r1 - a\n",
        "            C1 = 2 * r2\n",
        "\n",
        "            D_alpha = abs(C1 * X_alpha[d] - population[i][d])\n",
        "            X1 = X_alpha[d] - A1 * D_alpha\n",
        "\n",
        "            r1, r2 = np.random.rand(), np.random.rand()\n",
        "            A2 = 2 * a * r1 - a\n",
        "            C2 = 2 * r2\n",
        "\n",
        "            D_beta = abs(C2 * X_beta[d] - population[i][d])\n",
        "            X2 = X_beta[d] - A2 * D_beta\n",
        "\n",
        "            r1, r2 = np.random.rand(), np.random.rand()\n",
        "            A3 = 2 * a * r1 - a\n",
        "            C3 = 2 * r2\n",
        "\n",
        "            D_delta = abs(C3 * X_delta[d] - population[i][d])\n",
        "            X3 = X_delta[d] - A3 * D_delta\n",
        "\n",
        "            # Update position\n",
        "            new_pos = (X1 + X2 + X3) / 3\n",
        "            # Map to machine index\n",
        "            population[i][d] = int(np.clip(round(new_pos), 0, num_machines - 1))\n",
        "\n",
        "    # Re-evaluate fitness\n",
        "    fitness = np.array([calculate_makespan(sol) for sol in population])\n",
        "\n",
        "    # Update Alpha, Beta, Delta\n",
        "    alpha_idx = np.argmin(fitness)\n",
        "    if fitness[alpha_idx] < alpha_score:\n",
        "        X_alpha = population[alpha_idx].copy()\n",
        "        alpha_score = fitness[alpha_idx]\n",
        "\n",
        "    # Update beta and delta similarly\n",
        "    fitness_temp = fitness.copy()\n",
        "    fitness_temp[alpha_idx] = np.inf\n",
        "    beta_idx = np.argmin(fitness_temp)\n",
        "    X_beta = population[beta_idx].copy()\n",
        "    beta_score = fitness[beta_idx]\n",
        "\n",
        "    fitness_temp[beta_idx] = np.inf\n",
        "    delta_idx = np.argmin(fitness_temp)\n",
        "    X_delta = population[delta_idx].copy()\n",
        "    delta_score = fitness[delta_idx]\n",
        "\n",
        "print(\"\\nTask Processing Times:\", task_times)\n",
        "print(\"Best Machine Assignment:\", X_alpha)\n",
        "print(\"Minimum Makespan Achieved:\", alpha_score)"
      ]
    }
  ]
}