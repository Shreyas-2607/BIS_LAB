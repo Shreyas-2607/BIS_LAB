{
  "nbformat": 4,
  "nbformat_minor": 0,
  "metadata": {
    "colab": {
      "provenance": [],
      "authorship_tag": "ABX9TyMpLwP4IEYdmQ/CeHEoF1Tw",
      "include_colab_link": true
    },
    "kernelspec": {
      "name": "python3",
      "display_name": "Python 3"
    },
    "language_info": {
      "name": "python"
    }
  },
  "cells": [
    {
      "cell_type": "markdown",
      "metadata": {
        "id": "view-in-github",
        "colab_type": "text"
      },
      "source": [
        "<a href=\"https://colab.research.google.com/github/Shreyas-2607/BIS_LAB/blob/main/Cuckoo_Search_BIS_LAB.ipynb\" target=\"_parent\"><img src=\"https://colab.research.google.com/assets/colab-badge.svg\" alt=\"Open In Colab\"/></a>"
      ]
    },
    {
      "cell_type": "code",
      "execution_count": null,
      "metadata": {
        "colab": {
          "base_uri": "https://localhost:8080/"
        },
        "id": "QnywwEtE-r85",
        "outputId": "c0c217f9-5b91-470f-8b43-6ab7fe9c45bc"
      },
      "outputs": [
        {
          "output_type": "stream",
          "name": "stdout",
          "text": [
            "=== Cuckoo Search Economic Dispatch ===\n",
            "Generator 1: 261.47 MW\n",
            "Generator 2: 153.87 MW\n",
            "Generator 3: 84.66 MW\n",
            "Total Power: 500.00 MW\n",
            "Total Cost: ₹ 4303.13\n"
          ]
        }
      ],
      "source": [
        "import numpy as np\n",
        "import math\n",
        "\n",
        "demand = 500  # MW\n",
        "\n",
        "# Generator data: [a, b, c, Pmin, Pmax]\n",
        "generators = np.array([\n",
        "    [500, 5.3, 0.004, 100, 400],\n",
        "    [400, 5.5, 0.006, 100, 350],\n",
        "    [200, 5.8, 0.009,  50, 300]\n",
        "])\n",
        "\n",
        "num_gens = len(generators)\n",
        "\n",
        "def cost_function(P):\n",
        "    \"\"\"Calculate total generation cost + penalty for power balance violation.\"\"\"\n",
        "    total_cost = 0\n",
        "    for i in range(num_gens):\n",
        "        a, b, c, *_ = generators[i]\n",
        "        total_cost += a + b*P[i] + c*(P[i]**2)\n",
        "\n",
        "    # Penalty for power mismatch\n",
        "    penalty = 1e5 * (np.sum(P) - demand)**2\n",
        "    return total_cost + penalty\n",
        "\n",
        "def random_solution():\n",
        "    \"\"\"Generate a random feasible power allocation that satisfies limits approximately.\"\"\"\n",
        "    P = np.array([np.random.uniform(gen[3], gen[4]) for gen in generators])\n",
        "    # Adjust proportionally to match total demand\n",
        "    P = P * demand / np.sum(P)\n",
        "    return P\n",
        "\n",
        "def levy_flight(beta=1.5):\n",
        "    \"\"\"Generate step size using Lévy distribution.\"\"\"\n",
        "    sigma = (math.gamma(1+beta) * math.sin(math.pi*beta/2) /\n",
        "             (math.gamma((1+beta)/2)*beta*2**((beta-1)/2)))**(1/beta)\n",
        "    u = np.random.normal(0, sigma, size=num_gens)\n",
        "    v = np.random.normal(0, 1, size=num_gens)\n",
        "    step = u / (np.abs(v)**(1/beta))\n",
        "    return step\n",
        "\n",
        "def apply_bounds(P):\n",
        "    \"\"\"Ensure generator limits are respected.\"\"\"\n",
        "    for i in range(num_gens):\n",
        "        P[i] = np.clip(P[i], generators[i][3], generators[i][4])\n",
        "    # Adjust to meet demand approximately\n",
        "    P = P * demand / np.sum(P)\n",
        "    return P\n",
        "\n",
        "n = 20              # Number of nests\n",
        "pa = 0.25           # Discovery probability\n",
        "max_iter = 200\n",
        "\n",
        "nests = np.array([random_solution() for _ in range(n)])\n",
        "fitness = np.array([cost_function(P) for P in nests])\n",
        "best_idx = np.argmin(fitness)\n",
        "best = nests[best_idx].copy()\n",
        "\n",
        "for t in range(max_iter):\n",
        "    for i in range(n):\n",
        "        # Lévy flight from current nest\n",
        "        step = levy_flight()\n",
        "        new_nest = nests[i] + step * (nests[i] - best) * 0.01\n",
        "        new_nest = apply_bounds(new_nest)\n",
        "\n",
        "        new_fitness = cost_function(new_nest)\n",
        "        j = np.random.randint(n)\n",
        "\n",
        "        if new_fitness < fitness[j]:\n",
        "            nests[j] = new_nest\n",
        "            fitness[j] = new_fitness\n",
        "\n",
        "    # Abandon a fraction of worst nests\n",
        "    num_abandon = int(pa * n)\n",
        "    worst_idx = np.argsort(fitness)[-num_abandon:]\n",
        "    for idx in worst_idx:\n",
        "        nests[idx] = random_solution()\n",
        "        fitness[idx] = cost_function(nests[idx])\n",
        "\n",
        "    # Update global best\n",
        "    current_best_idx = np.argmin(fitness)\n",
        "    if fitness[current_best_idx] < cost_function(best):\n",
        "        best = nests[current_best_idx].copy()\n",
        "\n",
        "print(\"=== Cuckoo Search Economic Dispatch ===\")\n",
        "for i in range(num_gens):\n",
        "    print(f\"Generator {i+1}: {best[i]:.2f} MW\")\n",
        "\n",
        "print(f\"Total Power: {np.sum(best):.2f} MW\")\n",
        "print(f\"Total Cost: ₹ {cost_function(best):.2f}\")"
      ]
    }
  ]
}